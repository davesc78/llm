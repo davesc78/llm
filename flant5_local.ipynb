{
  "nbformat": 4,
  "nbformat_minor": 0,
  "metadata": {
    "colab": {
      "provenance": [],
      "machine_shape": "hm",
      "gpuType": "T4",
      "authorship_tag": "ABX9TyPVcEKcj4qFlHMvF7dkreYV",
      "include_colab_link": true
    },
    "kernelspec": {
      "name": "python3",
      "display_name": "Python 3"
    },
    "language_info": {
      "name": "python"
    },
    "accelerator": "GPU"
  },
  "cells": [
    {
      "cell_type": "markdown",
      "metadata": {
        "id": "view-in-github",
        "colab_type": "text"
      },
      "source": [
        "<a href=\"https://colab.research.google.com/github/davesc78/llm/blob/main/flant5_local.ipynb\" target=\"_parent\"><img src=\"https://colab.research.google.com/assets/colab-badge.svg\" alt=\"Open In Colab\"/></a>"
      ]
    },
    {
      "cell_type": "code",
      "execution_count": 3,
      "metadata": {
        "colab": {
          "base_uri": "https://localhost:8080/"
        },
        "id": "8tfNq15KAMSi",
        "outputId": "15451f5f-2f8b-4a02-e0a1-da409eaa91da"
      },
      "outputs": [
        {
          "output_type": "stream",
          "name": "stdout",
          "text": [
            "\u001b[2K     \u001b[90m━━━━━━━━━━━━━━━━━━━━━━━━━━━━━━━━━━━━━━━━\u001b[0m \u001b[32m43.7/43.7 kB\u001b[0m \u001b[31m2.2 MB/s\u001b[0m eta \u001b[36m0:00:00\u001b[0m\n",
            "\u001b[2K   \u001b[90m━━━━━━━━━━━━━━━━━━━━━━━━━━━━━━━━━━━━━━━━\u001b[0m \u001b[32m9.4/9.4 MB\u001b[0m \u001b[31m115.5 MB/s\u001b[0m eta \u001b[36m0:00:00\u001b[0m\n",
            "\u001b[2K   \u001b[90m━━━━━━━━━━━━━━━━━━━━━━━━━━━━━━━━━━━━━━━━\u001b[0m \u001b[32m137.5/137.5 MB\u001b[0m \u001b[31m16.8 MB/s\u001b[0m eta \u001b[36m0:00:00\u001b[0m\n",
            "\u001b[?25h"
          ]
        }
      ],
      "source": [
        "!pip install -q --upgrade transformers==4.43.1\n",
        "!pip install -q -U bitsandbytes"
      ]
    },
    {
      "cell_type": "code",
      "source": [
        "import torch\n",
        "from transformers import pipeline\n"
      ],
      "metadata": {
        "id": "z8FNClIMARk7"
      },
      "execution_count": 4,
      "outputs": []
    },
    {
      "cell_type": "code",
      "source": [
        "model_name = \"google/flan-t5-large\"\n",
        "torch.cuda.empty_cache()\n",
        "\n",
        "pipe = pipeline(\n",
        "    \"text2text-generation\",\n",
        "    model=model_name,\n",
        "        model_kwargs={\n",
        "        \"torch_dtype\": torch.bfloat16,\n",
        "        \"quantization_config\": {\"load_in_4bit\": True},\n",
        "        \"device_map\": \"cuda\",\n",
        "        \"max_length\": 256,  # Limit the maximum output length\n",
        "        \"pad_token_id\": 128001,  # Set the padding token ID\n",
        "    },\n",
        "    batch_size=1\n",
        ")\n"
      ],
      "metadata": {
        "id": "ONxxBDk1AU5n"
      },
      "execution_count": 18,
      "outputs": []
    },
    {
      "cell_type": "code",
      "source": [
        "def ask_model (question, n_tokens = 256):\n",
        "      outputs = pipe(\n",
        "          question,\n",
        "          max_new_tokens=256,\n",
        "          pad_token_id=128001,\n",
        "          #do_sample=False\n",
        "      )\n",
        "      assistant_response = outputs[0][\"generated_text\"]\n",
        "      return assistant_response"
      ],
      "metadata": {
        "id": "QTrwhZKTAWf1"
      },
      "execution_count": 22,
      "outputs": []
    },
    {
      "cell_type": "code",
      "source": [
        "res = ask_model(\"Answer the question: ¿Qué es Chilecompra?\")"
      ],
      "metadata": {
        "id": "AGHtin4CAZZ6"
      },
      "execution_count": 23,
      "outputs": []
    },
    {
      "cell_type": "code",
      "source": [
        "res"
      ],
      "metadata": {
        "colab": {
          "base_uri": "https://localhost:8080/",
          "height": 35
        },
        "id": "OH-9KGS_FKbW",
        "outputId": "e70034cf-fea9-48f4-c20c-3f09e58cd9b9"
      },
      "execution_count": 24,
      "outputs": [
        {
          "output_type": "execute_result",
          "data": {
            "text/plain": [
              "'empresa de transporte'"
            ],
            "application/vnd.google.colaboratory.intrinsic+json": {
              "type": "string"
            }
          },
          "metadata": {},
          "execution_count": 24
        }
      ]
    },
    {
      "cell_type": "code",
      "source": [],
      "metadata": {
        "id": "V58FVsZxFLJV"
      },
      "execution_count": null,
      "outputs": []
    }
  ]
}